{
 "cells": [
  {
   "cell_type": "code",
   "execution_count": 9,
   "metadata": {},
   "outputs": [
    {
     "ename": "ImportError",
     "evalue": "No module named ipynb",
     "output_type": "error",
     "traceback": [
      "\u001b[0;31m---------------------------------------------------------------------------\u001b[0m",
      "\u001b[0;31mImportError\u001b[0m                               Traceback (most recent call last)",
      "\u001b[0;32m<ipython-input-9-926bc02e2bea>\u001b[0m in \u001b[0;36m<module>\u001b[0;34m()\u001b[0m\n\u001b[1;32m     18\u001b[0m \u001b[0;32mimport\u001b[0m \u001b[0mutil\u001b[0m\u001b[0;34m\u001b[0m\u001b[0m\n\u001b[1;32m     19\u001b[0m \u001b[0;32mfrom\u001b[0m \u001b[0mutil\u001b[0m \u001b[0;32mimport\u001b[0m \u001b[0;34m*\u001b[0m\u001b[0;34m\u001b[0m\u001b[0m\n\u001b[0;32m---> 20\u001b[0;31m \u001b[0;32mfrom\u001b[0m \u001b[0mcluster\u001b[0m\u001b[0;34m.\u001b[0m\u001b[0mipynb\u001b[0m \u001b[0;32mimport\u001b[0m \u001b[0;34m*\u001b[0m\u001b[0;34m\u001b[0m\u001b[0m\n\u001b[0m\u001b[1;32m     21\u001b[0m \u001b[0;34m\u001b[0m\u001b[0m\n\u001b[1;32m     22\u001b[0m \u001b[0;31m######################################################################\u001b[0m\u001b[0;34m\u001b[0m\u001b[0;34m\u001b[0m\u001b[0m\n",
      "\u001b[0;31mImportError\u001b[0m: No module named ipynb"
     ]
    }
   ],
   "source": [
    "\"\"\"\n",
    "Author      : Yi-Chieh Wu, Sriram Sankararaman\n",
    "Description : Famous Faces\n",
    "\"\"\"\n",
    "\n",
    "# python libraries\n",
    "import collections\n",
    "\n",
    "# numpy libraries\n",
    "import numpy as np\n",
    "\n",
    "# matplotlib libraries\n",
    "import matplotlib.pyplot as plt\n",
    "\n",
    "import time\n",
    "\n",
    "# libraries specific to project\n",
    "import util\n",
    "from util import *\n",
    "from cluster import *\n",
    "\n",
    "######################################################################\n",
    "# helper functions\n",
    "######################################################################\n",
    "\n",
    "def build_face_image_points(X, y) :\n",
    "    \"\"\"\n",
    "    Translate images to (labeled) points.\n",
    "    \n",
    "    Parameters\n",
    "    --------------------\n",
    "        X     -- numpy array of shape (n,d), features (each row is one image)\n",
    "        y     -- numpy array of shape (n,), targets\n",
    "    \n",
    "    Returns\n",
    "    --------------------\n",
    "        point -- list of Points, dataset (one point for each image)\n",
    "    \"\"\"\n",
    "    \n",
    "    n,d = X.shape\n",
    "    \n",
    "    images = collections.defaultdict(list) # key = class, val = list of images with this class\n",
    "    for i in xrange(n) :\n",
    "        images[y[i]].append(X[i,:])\n",
    "    \n",
    "    points = []\n",
    "    for face in images :\n",
    "        count = 0\n",
    "        for im in images[face] :\n",
    "            points.append(Point(str(face) + '_' + str(count), face, im))\n",
    "            count += 1\n",
    "\n",
    "    return points\n",
    "\n",
    "\n",
    "def plot_clusters(clusters, title, average) :\n",
    "    \"\"\"\n",
    "    Plot clusters along with average points of each cluster.\n",
    "\n",
    "    Parameters\n",
    "    --------------------\n",
    "        clusters -- ClusterSet, clusters to plot\n",
    "        title    -- string, plot title\n",
    "        average  -- method of ClusterSet\n",
    "                    determines how to calculate average of points in cluster\n",
    "                    allowable: ClusterSet.centroids, ClusterSet.medoids\n",
    "    \"\"\"\n",
    "    \n",
    "    plt.figure()\n",
    "    np.random.seed(20)\n",
    "    label = 0\n",
    "    colors = {}\n",
    "    centroids = average(clusters)\n",
    "    for c in centroids :\n",
    "        coord = c.attrs\n",
    "        plt.plot(coord[0],coord[1], 'ok', markersize=12)\n",
    "    for cluster in clusters.members :\n",
    "        label += 1\n",
    "        colors[label] = np.random.rand(3,)\n",
    "        for point in cluster.points :\n",
    "            coord = point.attrs\n",
    "            plt.plot(coord[0], coord[1], 'o', color=colors[label])\n",
    "    plt.title(title)\n",
    "    plt.show()\n",
    "    \n",
    "\n",
    "\n",
    "def generate_points_2d(N, seed=1234) :\n",
    "    \"\"\"\n",
    "    Generate toy dataset of 3 clusters each with N points.\n",
    "    \n",
    "    Parameters\n",
    "    --------------------\n",
    "        N      -- int, number of points to generate per cluster\n",
    "        seed   -- random seed\n",
    "    \n",
    "    Returns\n",
    "    --------------------\n",
    "        points -- list of Points, dataset\n",
    "    \"\"\"\n",
    "    np.random.seed(seed)\n",
    "    \n",
    "    mu = [[0,0.5], [1,1], [2,0.5]]\n",
    "    sigma = [[0.1,0.1], [0.25,0.25], [0.15,0.15]]\n",
    "    \n",
    "    label = 0\n",
    "    points = []\n",
    "    for m,s in zip(mu, sigma) :\n",
    "        label += 1\n",
    "        for i in xrange(N) :\n",
    "            x = util.random_sample_2d(m, s)\n",
    "            points.append(Point(str(label)+'_'+str(i), label, x))\n",
    "    \n",
    "    return points\n",
    "\n",
    "\n",
    "######################################################################\n",
    "# k-means and k-medoids\n",
    "######################################################################\n",
    "\n",
    "def random_init(points, k) :\n",
    "    \"\"\"\n",
    "    Randomly select k unique elements from points to be initial cluster centers.\n",
    "    \n",
    "    Parameters\n",
    "    --------------------\n",
    "        points         -- list of Points, dataset\n",
    "        k              -- int, number of clusters\n",
    "    \n",
    "    Returns\n",
    "    --------------------\n",
    "        initial_points -- list of k Points, initial cluster centers\n",
    "    \"\"\"\n",
    "    ### ========== TODO : START ========== ###\n",
    "    # part 2c: implement (hint: use np.random.choice)\n",
    "    result = np.random.choice(points, k, replace=False)\n",
    "    return result\n",
    "    ### ========== TODO : END ========== ###\n",
    "\n",
    "\n",
    "def cheat_init(points) :\n",
    "    \"\"\"\n",
    "    Initialize clusters by cheating!\n",
    "    \n",
    "    Details\n",
    "    - Let k be number of unique labels in dataset.\n",
    "    - Group points into k clusters based on label (i.e. class) information.\n",
    "    - Return medoid of each cluster as initial centers.\n",
    "    \n",
    "    Parameters\n",
    "    --------------------\n",
    "        points         -- list of Points, dataset\n",
    "    \n",
    "    Returns\n",
    "    --------------------\n",
    "        initial_points -- list of k Points, initial cluster centers\n",
    "    \"\"\"\n",
    "    ### ========== TODO : START ========== ###\n",
    "    # part 2f: implement\n",
    "    labels = {}\n",
    "    for point in points:\n",
    "        if point.label in labels:\n",
    "            labels[point.label].append(point)\n",
    "        else:\n",
    "            labels[point.label] = [point]\n",
    "    initial_points = []        \n",
    "    for _,v in labels.items():\n",
    "        initial_points.append(Cluster(v).medoid())\n",
    "        \n",
    "    return initial_points\n",
    "    ### ========== TODO : END ========== ###\n",
    "\n",
    "def compute_assignments(clusters, points):\n",
    "    assignments = {}\n",
    "    for p in points:\n",
    "        min_dist, idx = np.Inf, -1\n",
    "        for i in xrange(len(clusters)): #for each point see which cluster it is closest too\n",
    "            dst = p.distance(clusters[i])\n",
    "            if dst < min_dist:\n",
    "                min_dist, idx = dst, i\n",
    "        if idx in assignments:\n",
    "            assignments[idx].append(p) #add point to assignments dictionary by index \n",
    "        else:\n",
    "            assignments[idx] = [p]\n",
    "    return assignments\n",
    "\n",
    "def kMeans(points, k, init='random', plot=False) :\n",
    "    \"\"\"\n",
    "    Cluster points into k clusters using variations of k-means algorithm.\n",
    "    \n",
    "    Parameters\n",
    "    --------------------\n",
    "        points  -- list of Points, dataset\n",
    "        k       -- int, number of clusters\n",
    "        average -- method of ClusterSet\n",
    "                   determines how to calculate average of points in cluster\n",
    "                   allowable: ClusterSet.centroids, ClusterSet.medoids\n",
    "        init    -- string, method of initialization\n",
    "                   allowable: \n",
    "                       'cheat'  -- use cheat_init to initialize clusters\n",
    "                       'random' -- use random_init to initialize clusters\n",
    "        plot    -- bool, True to plot clusters with corresponding averages\n",
    "                         for each iteration of algorithm\n",
    "    \n",
    "    Returns\n",
    "    --------------------\n",
    "        k_clusters -- ClusterSet, k clusters\n",
    "    \"\"\"\n",
    "    \n",
    "    ### ========== TODO : START ========== ###\n",
    "    # part 2c: implement\n",
    "    # Hints:\n",
    "    #   (1) On each iteration, keep track of the new cluster assignments\n",
    "    #       in a separate data structure. Then use these assignments to create\n",
    "    #       a new ClusterSet object and update the centroids.\n",
    "    #   (2) Repeat until the clustering no longer changes.\n",
    "    #   (3) To plot, use plot_clusters(...).\n",
    "    cur_centroids = None\n",
    "    if init == 'random':\n",
    "        cur_centroids = random_init(points, k)\n",
    "    else:\n",
    "        cur_centroids = cheat_init(points)\n",
    "    \n",
    "    iters = 0\n",
    "    prev_clusters = None\n",
    "    k_clusters = None\n",
    "    plot_title = 'kMeans'\n",
    "    \n",
    "    while True:\n",
    "        #cluster_list = []\n",
    "        cur_cluster_set = ClusterSet()\n",
    "        for _,v in compute_assignments(cur_centroids, points).items():\n",
    "            cur_cluster_set.add(Cluster(v)) #assigning points to each cluster\n",
    "    \n",
    "        #cluster_list = [Cluster(v) for _, v in compute_assignments(cur_centroids, points).items()]\n",
    "       # cur_cluster_set = ClusterSet(cluster_list)\n",
    "        iters += 1\n",
    "        if plot:\n",
    "            plot_clusters(cur_cluster_set, 'Plot of kMeans iteration {} using {} init'.format(iters, init), ClusterSet.centroids)\n",
    "        if prev_clusters is not None and cur_cluster_set.equivalent(prev_clusters):\n",
    "            k_clusters = cur_cluster_set\n",
    "            break\n",
    "        else:\n",
    "            prev_clusters = cur_cluster_set\n",
    "            cur_centroids = cur_cluster_set.centroids()\n",
    "\n",
    "    return k_clusters\n",
    "    ### ========== TODO : END ========== ###\n",
    "\n",
    "\n",
    "def kMedoids(points, k, init='random', plot=False) :\n",
    "    \"\"\"\n",
    "    Cluster points in k clusters using k-medoids clustering.\n",
    "    See kMeans(...).\n",
    "    \"\"\"\n",
    "    ### ========== TODO : START ========== ###\n",
    "    # part 2e: implement\n",
    "    cur_centroids = None\n",
    "    if init == 'random':\n",
    "        cur_centroids = random_init(points, k)\n",
    "    else:\n",
    "        cur_centroids = cheat_init(points)\n",
    "    \n",
    "    iters = 0\n",
    "    prev_clusters = None\n",
    "    k_clusters = None\n",
    "    plot_title = 'kMedoids'\n",
    "    \n",
    "    while True:\n",
    "        #cluster_list = []\n",
    "        cur_cluster_set = ClusterSet()\n",
    "        for _,v in compute_assignments(cur_centroids, points).items():\n",
    "            cur_cluster_set.add(Cluster(v)) #assigning points to each cluster\n",
    "        iters += 1\n",
    "        if plot:\n",
    "            plot_clusters(cur_cluster_set, 'Plot of kMedoids iteration {} using {} init'.format(iters, init), ClusterSet.medoids)\n",
    "        if prev_clusters is not None and cur_cluster_set.equivalent(prev_clusters):\n",
    "            k_clusters = cur_cluster_set\n",
    "            break\n",
    "        else:\n",
    "            prev_clusters = cur_cluster_set\n",
    "            cur_centroids = cur_cluster_set.medoids()\n",
    "\n",
    "    return k_clusters\n",
    "    ### ========== TODO : END ========== ###\n",
    "\n",
    "\n",
    "######################################################################\n",
    "# main\n",
    "######################################################################\n",
    "\n",
    "def main() :\n",
    "    ### ========== TODO : START ========== ###\n",
    "    # part 1: explore LFW data set\n",
    "    \n",
    "    X, y = get_lfw_data()\n",
    "    mean = np.mean(X, axis=0)\n",
    "    #print(mean)\n",
    "    #show_image(mean)\n",
    "    show_image(vec_to_image(mean))\n",
    "    \n",
    "    U, mu = PCA(X)\n",
    "    \n",
    "    #plot_gallery([vec_to_image(U[:,i]) for i in xrange(12)])\n",
    "    \n",
    "    plot_title = \"1c-\"\n",
    "    for l in [1,10,50,100,500,1288]:\n",
    "        Z, Ul = apply_PCA_from_Eig(X, U, l, mu)\n",
    "        X_rec = reconstruct_from_PCA(Z, Ul, mu)\n",
    "        title = plot_title + str(l)\n",
    "        plot_gallery([vec_to_image(X_rec[i]) for i in range(12)], title=title)\n",
    "        \n",
    "      \n",
    "    \n",
    "    ### ========== TODO : START ========== ###\n",
    "    # part 2d-2f: cluster toy dataset\n",
    "   # np.random.seed(1234)\n",
    "   # points = generate_points_2d(20)\n",
    "   # kMeans(points, 3, init='random', plot=True)\n",
    "    \n",
    "   # np.random.seed(1234)\n",
    "   # points = generate_points_2d(20)\n",
    "   # kMedoids(points, 3, init='random', plot=True)\n",
    "    \n",
    "   # np.random.seed(1234)\n",
    "   # points = generate_points_2d(20)\n",
    "   # kMeans(points, 3, init='cheat', plot=True)\n",
    "    \n",
    "   # np.random.seed(1234)\n",
    "   # points = generate_points_2d(20)\n",
    "   # kMedoids(points, 3, init='cheat', plot=True)\n",
    "    ### ========== TODO : END ========== ###\n",
    "    \n",
    "    \n",
    "    \n",
    "    ### ========== TODO : START ========== ###    \n",
    "    # part 3a: cluster faces\n",
    "    np.random.seed(1234)\n",
    "    X1, y1 = util.limit_pics(X, y, [4, 6, 13, 16], 40)\n",
    "    points = build_face_image_points(X1, y1)\n",
    "    minScoreMeans = 1000\n",
    "    maxScoreMeans = -1000\n",
    "    average = 0\n",
    "    totalTime = 0\n",
    "    for i in xrange(10):\n",
    "        start = time.time()\n",
    "        scoreMeans = kMeans(points, 4, init='random').score()\n",
    "        print(scoreMeans)\n",
    "        if(i==0):\n",
    "            minScoreMeans = scoreMeans\n",
    "            maxScoreMeans = scoreMeans\n",
    "            average = scoreMeans\n",
    "            totalTime = time.time() - start\n",
    "        else:\n",
    "            if scoreMeans < minScoreMeans:\n",
    "                minScoreMeans = scoreMeans\n",
    "            if scoreMeans > maxScoreMeans:\n",
    "                maxScoreMeans = scoreMeans\n",
    "            average += scoreMeans\n",
    "            totalTime += time.time() - start\n",
    "    print(\"min score\")\n",
    "    print(minScoreMeans)\n",
    "    print(\"max score\")\n",
    "    print(maxScoreMeans)\n",
    "    print(\"average score\")\n",
    "    print(average/10)\n",
    "    print(\"average time\")\n",
    "    print(totalTime/10)\n",
    "    \n",
    "    minScoreMedoids = 1000\n",
    "    maxScoreMedoids = -1000\n",
    "    averageM = 0\n",
    "    totalTime = 0\n",
    "    for i in xrange(10):\n",
    "        start = time.time()\n",
    "        scoreMedoids = kMedoids(points, 4, init='random').score()\n",
    "        print(scoreMedoids)\n",
    "        if(i==0):\n",
    "            minScoreMedoids = scoreMedoids\n",
    "            maxScoreMedoids = scoreMedoids\n",
    "            averageM = scoreMeans\n",
    "        else:\n",
    "            if scoreMedoids < minScoreMedoids:\n",
    "                minScoreMedoids = scoreMedoids\n",
    "            if scoreMedoids > maxScoreMedoids:\n",
    "                maxScoreMedoids = scoreMedoids\n",
    "            averageM += scoreMedoids\n",
    "            totalTime += time.time() - start\n",
    "    print(\"min score\")\n",
    "    print(minScoreMedoids)\n",
    "    print(\"max score\")\n",
    "    print(maxScoreMedoids)\n",
    "    print(\"average\")\n",
    "    print(averageM/10)\n",
    "    print(\"average time\")\n",
    "    print(totalTime/10)\n",
    "        \n",
    "    # part 3b: explore effect of lower-dimensional representations on clustering performance\n",
    "    np.random.seed(1234)\n",
    "    scoresMeans = []\n",
    "    scoresMedoids = []\n",
    "    l_values = []\n",
    "    X1, y1 = util.limit_pics(X, y, [4, 13], 40)\n",
    "    for l in xrange(1, 42):\n",
    "        l_values.append(l)\n",
    "        l+=2\n",
    "    \n",
    "    for l in l_values:\n",
    "        Z, U1 = apply_PCA_from_Eig(X1, U, l, mu)\n",
    "        X_rec = reconstruct_from_PCA(Z, U1, mu)\n",
    "        points = build_face_image_points(X_rec, y1)\n",
    "        \n",
    "        scoreM = kMeans(points, 2, init='cheat').score()\n",
    "        scoreM2 = kMedoids(points, 2, init='cheat').score()\n",
    "        scoresMeans.append(scoreM)\n",
    "        scoresMedoids.append(scoreM2)        \n",
    "\n",
    "    plt.plot(l_values, scoresMeans, 'c', label='kMeans')\n",
    "    plt.plot(l_values, scoresMedoids, 'b', label='kMedoids')\n",
    "    plt.xlabel('# of principal components')\n",
    "    plt.ylabel('score')\n",
    "    plt.legend()\n",
    "    plt.show()\n",
    "    \n",
    "    # part 3c: determine ``most discriminative'' and ``least discriminative'' pairs of images\n",
    "    np.random.seed(1234)\n",
    "    \n",
    "    score = 0\n",
    "    minScore = 1000\n",
    "    iMin = -1\n",
    "    iMax = -1\n",
    "    jMin = -1\n",
    "    jMax = -1\n",
    "    maxScore = -1000\n",
    "\n",
    "    for i in xrange(0,19):\n",
    "        for j in xrange(0,19):\n",
    "            if i != j:\n",
    "                X2, y2 = util.limit_pics(X, y, [i, j], 40)\n",
    "                points = build_face_image_points(X, y)\n",
    "                score = kMedoids(points,2, init='cheat').score()\n",
    "                if score < minScore:\n",
    "                    minScore = score\n",
    "                    iMin = i\n",
    "                    jMin = j\n",
    "                if score > maxScore:\n",
    "                    maxScore = score\n",
    "                    iMax = i\n",
    "                    jMax = j\n",
    "                \n",
    "    print(\"min:\")\n",
    "    print(minScore)\n",
    "    print(iMin)\n",
    "    print(jMin)\n",
    "    plot_representative_images(X, y, iMin, jMin, title=\"min\")\n",
    "    print(\"max:\")\n",
    "    print(maxScore)\n",
    "    print(iMax)\n",
    "    print(jMax)\n",
    "    plot_representative_images(X, y, iMax, jMax, title=\"min\")\n",
    "        \n",
    "    ### ========== TODO : END ========== ###\n",
    "    \n",
    "  \n",
    "    \n",
    "    ### ========== TODO : END ========== ###\n",
    "\n",
    "\n",
    "if __name__ == \"__main__\" :\n",
    "    main()\n"
   ]
  },
  {
   "cell_type": "code",
   "execution_count": null,
   "metadata": {},
   "outputs": [],
   "source": []
  },
  {
   "cell_type": "code",
   "execution_count": null,
   "metadata": {},
   "outputs": [],
   "source": []
  },
  {
   "cell_type": "code",
   "execution_count": null,
   "metadata": {},
   "outputs": [],
   "source": []
  },
  {
   "cell_type": "code",
   "execution_count": null,
   "metadata": {},
   "outputs": [],
   "source": []
  },
  {
   "cell_type": "code",
   "execution_count": null,
   "metadata": {},
   "outputs": [],
   "source": []
  },
  {
   "cell_type": "code",
   "execution_count": null,
   "metadata": {},
   "outputs": [],
   "source": []
  },
  {
   "cell_type": "code",
   "execution_count": null,
   "metadata": {},
   "outputs": [],
   "source": []
  },
  {
   "cell_type": "code",
   "execution_count": null,
   "metadata": {},
   "outputs": [],
   "source": []
  },
  {
   "cell_type": "code",
   "execution_count": null,
   "metadata": {},
   "outputs": [],
   "source": []
  },
  {
   "cell_type": "code",
   "execution_count": null,
   "metadata": {},
   "outputs": [],
   "source": []
  },
  {
   "cell_type": "code",
   "execution_count": null,
   "metadata": {},
   "outputs": [],
   "source": []
  },
  {
   "cell_type": "code",
   "execution_count": null,
   "metadata": {
    "collapsed": true
   },
   "outputs": [],
   "source": []
  },
  {
   "cell_type": "code",
   "execution_count": null,
   "metadata": {
    "collapsed": true
   },
   "outputs": [],
   "source": []
  },
  {
   "cell_type": "code",
   "execution_count": null,
   "metadata": {
    "collapsed": true
   },
   "outputs": [],
   "source": []
  },
  {
   "cell_type": "code",
   "execution_count": null,
   "metadata": {
    "collapsed": true
   },
   "outputs": [],
   "source": []
  },
  {
   "cell_type": "code",
   "execution_count": null,
   "metadata": {
    "collapsed": true
   },
   "outputs": [],
   "source": []
  },
  {
   "cell_type": "code",
   "execution_count": null,
   "metadata": {
    "collapsed": true
   },
   "outputs": [],
   "source": []
  },
  {
   "cell_type": "code",
   "execution_count": null,
   "metadata": {
    "collapsed": true
   },
   "outputs": [],
   "source": []
  },
  {
   "cell_type": "code",
   "execution_count": null,
   "metadata": {
    "collapsed": true
   },
   "outputs": [],
   "source": []
  },
  {
   "cell_type": "code",
   "execution_count": null,
   "metadata": {
    "collapsed": true
   },
   "outputs": [],
   "source": []
  },
  {
   "cell_type": "code",
   "execution_count": null,
   "metadata": {
    "collapsed": true
   },
   "outputs": [],
   "source": []
  },
  {
   "cell_type": "code",
   "execution_count": null,
   "metadata": {
    "collapsed": true
   },
   "outputs": [],
   "source": []
  },
  {
   "cell_type": "code",
   "execution_count": null,
   "metadata": {
    "collapsed": true
   },
   "outputs": [],
   "source": []
  },
  {
   "cell_type": "code",
   "execution_count": null,
   "metadata": {
    "collapsed": true
   },
   "outputs": [],
   "source": []
  },
  {
   "cell_type": "code",
   "execution_count": null,
   "metadata": {
    "collapsed": true
   },
   "outputs": [],
   "source": []
  },
  {
   "cell_type": "code",
   "execution_count": null,
   "metadata": {
    "collapsed": true
   },
   "outputs": [],
   "source": []
  },
  {
   "cell_type": "code",
   "execution_count": null,
   "metadata": {
    "collapsed": true
   },
   "outputs": [],
   "source": []
  },
  {
   "cell_type": "code",
   "execution_count": null,
   "metadata": {
    "collapsed": true
   },
   "outputs": [],
   "source": []
  },
  {
   "cell_type": "code",
   "execution_count": null,
   "metadata": {
    "collapsed": true
   },
   "outputs": [],
   "source": []
  },
  {
   "cell_type": "code",
   "execution_count": null,
   "metadata": {
    "collapsed": true
   },
   "outputs": [],
   "source": []
  },
  {
   "cell_type": "code",
   "execution_count": null,
   "metadata": {
    "collapsed": true
   },
   "outputs": [],
   "source": []
  },
  {
   "cell_type": "code",
   "execution_count": null,
   "metadata": {
    "collapsed": true
   },
   "outputs": [],
   "source": []
  },
  {
   "cell_type": "code",
   "execution_count": null,
   "metadata": {
    "collapsed": true
   },
   "outputs": [],
   "source": []
  },
  {
   "cell_type": "code",
   "execution_count": null,
   "metadata": {
    "collapsed": true
   },
   "outputs": [],
   "source": []
  },
  {
   "cell_type": "code",
   "execution_count": null,
   "metadata": {
    "collapsed": true
   },
   "outputs": [],
   "source": []
  },
  {
   "cell_type": "code",
   "execution_count": null,
   "metadata": {
    "collapsed": true
   },
   "outputs": [],
   "source": []
  },
  {
   "cell_type": "code",
   "execution_count": null,
   "metadata": {
    "collapsed": true
   },
   "outputs": [],
   "source": []
  },
  {
   "cell_type": "code",
   "execution_count": null,
   "metadata": {
    "collapsed": true
   },
   "outputs": [],
   "source": []
  },
  {
   "cell_type": "code",
   "execution_count": null,
   "metadata": {
    "collapsed": true
   },
   "outputs": [],
   "source": []
  },
  {
   "cell_type": "code",
   "execution_count": null,
   "metadata": {
    "collapsed": true
   },
   "outputs": [],
   "source": []
  },
  {
   "cell_type": "code",
   "execution_count": null,
   "metadata": {
    "collapsed": true
   },
   "outputs": [],
   "source": []
  },
  {
   "cell_type": "code",
   "execution_count": null,
   "metadata": {
    "collapsed": true
   },
   "outputs": [],
   "source": []
  },
  {
   "cell_type": "code",
   "execution_count": null,
   "metadata": {
    "collapsed": true
   },
   "outputs": [],
   "source": []
  },
  {
   "cell_type": "code",
   "execution_count": null,
   "metadata": {
    "collapsed": true
   },
   "outputs": [],
   "source": []
  },
  {
   "cell_type": "code",
   "execution_count": null,
   "metadata": {
    "collapsed": true
   },
   "outputs": [],
   "source": []
  },
  {
   "cell_type": "code",
   "execution_count": null,
   "metadata": {
    "collapsed": true
   },
   "outputs": [],
   "source": []
  },
  {
   "cell_type": "code",
   "execution_count": null,
   "metadata": {
    "collapsed": true
   },
   "outputs": [],
   "source": []
  },
  {
   "cell_type": "code",
   "execution_count": null,
   "metadata": {
    "collapsed": true
   },
   "outputs": [],
   "source": []
  },
  {
   "cell_type": "code",
   "execution_count": null,
   "metadata": {
    "collapsed": true
   },
   "outputs": [],
   "source": []
  },
  {
   "cell_type": "code",
   "execution_count": null,
   "metadata": {
    "collapsed": true
   },
   "outputs": [],
   "source": []
  },
  {
   "cell_type": "code",
   "execution_count": null,
   "metadata": {
    "collapsed": true
   },
   "outputs": [],
   "source": []
  },
  {
   "cell_type": "code",
   "execution_count": null,
   "metadata": {
    "collapsed": true
   },
   "outputs": [],
   "source": []
  },
  {
   "cell_type": "code",
   "execution_count": null,
   "metadata": {
    "collapsed": true
   },
   "outputs": [],
   "source": []
  },
  {
   "cell_type": "code",
   "execution_count": null,
   "metadata": {
    "collapsed": true
   },
   "outputs": [],
   "source": []
  },
  {
   "cell_type": "code",
   "execution_count": null,
   "metadata": {
    "collapsed": true
   },
   "outputs": [],
   "source": []
  },
  {
   "cell_type": "code",
   "execution_count": null,
   "metadata": {
    "collapsed": true
   },
   "outputs": [],
   "source": []
  },
  {
   "cell_type": "code",
   "execution_count": null,
   "metadata": {
    "collapsed": true
   },
   "outputs": [],
   "source": []
  },
  {
   "cell_type": "code",
   "execution_count": null,
   "metadata": {
    "collapsed": true
   },
   "outputs": [],
   "source": []
  },
  {
   "cell_type": "code",
   "execution_count": null,
   "metadata": {
    "collapsed": true
   },
   "outputs": [],
   "source": []
  },
  {
   "cell_type": "code",
   "execution_count": null,
   "metadata": {
    "collapsed": true
   },
   "outputs": [],
   "source": []
  },
  {
   "cell_type": "code",
   "execution_count": null,
   "metadata": {
    "collapsed": true
   },
   "outputs": [],
   "source": []
  },
  {
   "cell_type": "code",
   "execution_count": null,
   "metadata": {
    "collapsed": true
   },
   "outputs": [],
   "source": []
  },
  {
   "cell_type": "code",
   "execution_count": null,
   "metadata": {
    "collapsed": true
   },
   "outputs": [],
   "source": []
  },
  {
   "cell_type": "code",
   "execution_count": null,
   "metadata": {
    "collapsed": true
   },
   "outputs": [],
   "source": []
  },
  {
   "cell_type": "code",
   "execution_count": null,
   "metadata": {
    "collapsed": true
   },
   "outputs": [],
   "source": []
  }
 ],
 "metadata": {
  "kernelspec": {
   "display_name": "Python 2",
   "language": "python",
   "name": "python2"
  },
  "language_info": {
   "codemirror_mode": {
    "name": "ipython",
    "version": 2
   },
   "file_extension": ".py",
   "mimetype": "text/x-python",
   "name": "python",
   "nbconvert_exporter": "python",
   "pygments_lexer": "ipython2",
   "version": "2.7.15"
  }
 },
 "nbformat": 4,
 "nbformat_minor": 2
}
